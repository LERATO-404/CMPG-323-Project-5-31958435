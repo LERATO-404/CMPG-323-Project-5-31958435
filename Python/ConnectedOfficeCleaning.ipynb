{
 "cells": [
  {
   "cell_type": "markdown",
   "metadata": {},
   "source": [
    "## Notes\n",
    "### Change in Device:\n",
    "* Chategory Id ---> Categories\n",
    "* Zone Id ----> Zones\n",
    "### Change in sub category\n",
    "* sub Category Name ----> subCategoryName\n",
    "* sub Category Description ----> subCategoryDescription"
   ]
  },
  {
   "cell_type": "code",
   "execution_count": 50,
   "metadata": {},
   "outputs": [],
   "source": [
    "# Load libraries\n",
    "import pandas as pd #data processing CSV files I/O (pd.read_csv)\n",
    "import numpy as np # linear algebra\n",
    "import os\n",
    "\n",
    "#Missingno is a Python library that provides the ability to understand the distribution of missing values through informative\n",
    "# visualizations. The visualizations can be in the form of heat maps or bar charts\n",
    "import missingno as msmo "
   ]
  },
  {
   "cell_type": "code",
   "execution_count": 51,
   "metadata": {},
   "outputs": [],
   "source": [
    "# get the path of the curren working directory\n",
    "presentWorkingDirectory = os.getcwd()"
   ]
  },
  {
   "cell_type": "code",
   "execution_count": 52,
   "metadata": {},
   "outputs": [],
   "source": [
    "# read the sheet\n",
    "dtSetZone = pd.read_excel(presentWorkingDirectory+\"\\Dataset\\Connected Office Dataset.xlsx\",sheet_name=0, index_col=0)\n",
    "dtSetDevice = pd.read_excel(presentWorkingDirectory+\"\\Dataset\\Connected Office Dataset.xlsx\",sheet_name=1, index_col=0)\n",
    "dtSetCategory = pd.read_excel(presentWorkingDirectory+\"\\Dataset\\Connected Office Dataset.xlsx\",sheet_name=2, index_col=0)\n",
    "dtSetSubCategory = pd.read_excel(presentWorkingDirectory+\"\\Dataset\\Connected Office Dataset.xlsx\",sheet_name=3, index_col=0)\n",
    "full_ds = pd.concat([dtSetZone,dtSetDevice,dtSetCategory,dtSetSubCategory],ignore_index=True)"
   ]
  },
  {
   "cell_type": "code",
   "execution_count": null,
   "metadata": {},
   "outputs": [],
   "source": [
    "# check missing values\n",
    "# Visualize missing values as a matrix\n",
    "msmo.matrix(full_ds)"
   ]
  },
  {
   "cell_type": "code",
   "execution_count": null,
   "metadata": {},
   "outputs": [],
   "source": [
    "# Remove duplicate\n",
    "dtSetZone.drop_duplicates()\n",
    "dtSetDevice.drop_duplicates()\n",
    "dtSetCategory.drop_duplicates()\n",
    "dtSetSubCategory.drop_duplicates()"
   ]
  },
  {
   "cell_type": "code",
   "execution_count": 56,
   "metadata": {},
   "outputs": [],
   "source": [
    "#Rename column devices\n",
    "new_name = {'Device Name':'Devices','Category ID': 'Categories', 'Zone ID': 'Zones', 'Date Installe':'Date Installed'}\n",
    "dtSetDevice.rename(columns = new_name, inplace=True)\n",
    "\n",
    "# add the Year coloumn from date \n",
    "dtSetDevice['Year']= dtSetDevice['Date Installed'].dt.year\n",
    "\n",
    "# add a new column for online if true and offline if false\n",
    "dtSetDevice.loc[dtSetDevice['Is Active'] == True, \"Online_Offline\" ] = 'Online'\n",
    "dtSetDevice.loc[dtSetDevice['Is Active'] == False, \"Online_Offline\" ] = 'Offline'"
   ]
  },
  {
   "cell_type": "code",
   "execution_count": 57,
   "metadata": {},
   "outputs": [
    {
     "data": {
      "text/plain": [
       "Devices                   object\n",
       "Categories                object\n",
       "Zones                     object\n",
       "Status                    object\n",
       "Is Active                   bool\n",
       "Date Installed    datetime64[ns]\n",
       "Year                       int64\n",
       "Online_Offline            object\n",
       "dtype: object"
      ]
     },
     "execution_count": 57,
     "metadata": {},
     "output_type": "execute_result"
    }
   ],
   "source": [
    "# check data types\n",
    "dtSetDevice.dtypes"
   ]
  },
  {
   "cell_type": "code",
   "execution_count": 58,
   "metadata": {},
   "outputs": [],
   "source": [
    "#Rename column devices\n",
    "new_name = {'Sub Category Name':'SubCategoryName','Sub Category Description': 'SubCategoryDescription'}\n",
    "dtSetSubCategory.rename(columns = new_name, inplace=True)\n",
    "\n",
    "\n",
    "# changed Sub_Category values\n",
    "new_values = pd.Series(['C05','C05'], name='Category ID', index=[0,3])\n",
    "dtSetSubCategory.update(new_values)"
   ]
  },
  {
   "cell_type": "code",
   "execution_count": 59,
   "metadata": {},
   "outputs": [
    {
     "data": {
      "text/plain": [
       "Category ID               object\n",
       "SubCategoryName           object\n",
       "SubCategoryDescription    object\n",
       "dtype: object"
      ]
     },
     "execution_count": 59,
     "metadata": {},
     "output_type": "execute_result"
    }
   ],
   "source": [
    "# check data types\n",
    "dtSetSubCategory.dtypes"
   ]
  },
  {
   "cell_type": "code",
   "execution_count": 60,
   "metadata": {},
   "outputs": [
    {
     "data": {
      "text/plain": [
       "ZoneName           object\n",
       "ZoneDescription    object\n",
       "dtype: object"
      ]
     },
     "execution_count": 60,
     "metadata": {},
     "output_type": "execute_result"
    }
   ],
   "source": [
    "# check data types\n",
    "dtSetZone.dtypes"
   ]
  },
  {
   "cell_type": "code",
   "execution_count": 63,
   "metadata": {},
   "outputs": [
    {
     "data": {
      "text/plain": [
       "CategoryName           object\n",
       "CategoryDescription    object\n",
       "dtype: object"
      ]
     },
     "execution_count": 63,
     "metadata": {},
     "output_type": "execute_result"
    }
   ],
   "source": [
    "# check data types\n",
    "dtSetCategory.dtypes"
   ]
  },
  {
   "cell_type": "code",
   "execution_count": 66,
   "metadata": {},
   "outputs": [],
   "source": [
    "# create new and updated sheets\n",
    "dtSetZone.to_excel(presentWorkingDirectory+'\\Dataset\\zones.xlsx')\n",
    "dtSetCategory.to_excel(presentWorkingDirectory+'\\Dataset\\categories.xlsx')\n",
    "dtSetSubCategory.to_excel(presentWorkingDirectory+'\\Dataset\\subCategories.xlsx')\n",
    "dtSetDevice.to_excel(presentWorkingDirectory+'\\Dataset\\devices.xlsx')"
   ]
  }
 ],
 "metadata": {
  "kernelspec": {
   "display_name": "Python 3.9.13 ('base')",
   "language": "python",
   "name": "python3"
  },
  "language_info": {
   "codemirror_mode": {
    "name": "ipython",
    "version": 3
   },
   "file_extension": ".py",
   "mimetype": "text/x-python",
   "name": "python",
   "nbconvert_exporter": "python",
   "pygments_lexer": "ipython3",
   "version": "3.9.13"
  },
  "orig_nbformat": 4,
  "vscode": {
   "interpreter": {
    "hash": "7f52e0d83abfc473f4e83189e9fdce0212273ee251d6b689470f94ece2bf0bb9"
   }
  }
 },
 "nbformat": 4,
 "nbformat_minor": 2
}
